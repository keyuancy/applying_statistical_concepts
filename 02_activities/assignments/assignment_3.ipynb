{
 "cells": [
  {
   "cell_type": "markdown",
   "id": "7b0bcac6-5086-4f4e-928a-570a9ff7ae58",
   "metadata": {},
   "source": [
    "# Assignment 3"
   ]
  },
  {
   "cell_type": "markdown",
   "id": "5fce0350-2a17-4e93-8d4c-0b8748fdfc32",
   "metadata": {},
   "source": [
    "You only need to write one line of code for each question. When answering questions that ask you to identify or interpret something, the length of your response doesn’t matter. For example, if the answer is just ‘yes,’ ‘no,’ or a number, you can just give that answer without adding anything else.\n",
    "\n",
    "We will go through comparable code and concepts in the live learning session. If you run into trouble, start by using the help `help()` function in Python, to get information about the datasets and function in question. The internet is also a great resource when coding (though note that **no outside searches are required by the assignment!**). If you do incorporate code from the internet, please cite the source within your code (providing a URL is sufficient).\n",
    "\n",
    "Please bring questions that you cannot work out on your own to office hours, work periods or share with your peers on Slack. We will work with you through the issue."
   ]
  },
  {
   "cell_type": "markdown",
   "id": "5fc5001c-7715-4ebe-b0f7-e4bd04349629",
   "metadata": {},
   "source": [
    "### Clustering and Resampling\n",
    "\n",
    "Let's set up our workspace and use the **Iris dataset** from `scikit-learn`. This dataset is a classic dataset in machine learning and statistics, widely used for clustering tasks. It consists of 150 samples of iris flowers, each belonging to one of three species: Iris setosa, Iris versicolor, and Iris virginica. Here are the key features and characteristics of the dataset:\n",
    "\n",
    "##### Features:\n",
    "1. **Sepal Length**: The length of the sepal in centimeters.\n",
    "2. **Sepal Width**: The width of the sepal in centimeters.\n",
    "3. **Petal Length**: The length of the petal in centimeters.\n",
    "4. **Petal Width**: The width of the petal in centimeters.\n",
    "\n",
    "##### Target Variable:\n",
    "- **Species**: The species of the iris flower, which can take one of the following values:\n",
    "  - 0: Iris setosa\n",
    "  - 1: Iris versicolor\n",
    "  - 2: Iris virginica"
   ]
  },
  {
   "cell_type": "code",
   "execution_count": 1,
   "id": "4a3485d6-ba58-4660-a983-5680821c5719",
   "metadata": {},
   "outputs": [
    {
     "ename": "ModuleNotFoundError",
     "evalue": "No module named 'sklearn'",
     "output_type": "error",
     "traceback": [
      "\u001b[1;31m---------------------------------------------------------------------------\u001b[0m",
      "\u001b[1;31mModuleNotFoundError\u001b[0m                       Traceback (most recent call last)",
      "Cell \u001b[1;32mIn[1], line 5\u001b[0m\n\u001b[0;32m      3\u001b[0m \u001b[38;5;28;01mimport\u001b[39;00m \u001b[38;5;21;01mpandas\u001b[39;00m \u001b[38;5;28;01mas\u001b[39;00m \u001b[38;5;21;01mpd\u001b[39;00m\n\u001b[0;32m      4\u001b[0m \u001b[38;5;28;01mimport\u001b[39;00m \u001b[38;5;21;01mmatplotlib\u001b[39;00m\u001b[38;5;21;01m.\u001b[39;00m\u001b[38;5;21;01mpyplot\u001b[39;00m \u001b[38;5;28;01mas\u001b[39;00m \u001b[38;5;21;01mplt\u001b[39;00m\n\u001b[1;32m----> 5\u001b[0m \u001b[38;5;28;01mfrom\u001b[39;00m \u001b[38;5;21;01msklearn\u001b[39;00m\u001b[38;5;21;01m.\u001b[39;00m\u001b[38;5;21;01mpreprocessing\u001b[39;00m \u001b[38;5;28;01mimport\u001b[39;00m StandardScaler\n\u001b[0;32m      6\u001b[0m \u001b[38;5;28;01mfrom\u001b[39;00m \u001b[38;5;21;01msklearn\u001b[39;00m\u001b[38;5;21;01m.\u001b[39;00m\u001b[38;5;21;01mcluster\u001b[39;00m \u001b[38;5;28;01mimport\u001b[39;00m KMeans\n",
      "\u001b[1;31mModuleNotFoundError\u001b[0m: No module named 'sklearn'"
     ]
    }
   ],
   "source": [
    "# Import standard libraries\n",
    "import numpy as np\n",
    "import pandas as pd\n",
    "import matplotlib.pyplot as plt\n",
    "from sklearn.preprocessing import StandardScaler\n",
    "from sklearn.cluster import KMeans\n"
   ]
  },
  {
   "cell_type": "markdown",
   "id": "3491d919",
   "metadata": {},
   "source": [
    "#### **Question 1:** \n",
    "#### Data inspection\n",
    "\n",
    "#### Load the Iris dataset:\n",
    "\n",
    "Use scikit-learn to load the Iris dataset and convert it into a Pandas DataFrame.\n",
    "Display the first few rows of the dataset. How many observations (rows) and features (columns) does the dataset contain?"
   ]
  },
  {
   "cell_type": "code",
   "execution_count": null,
   "id": "774d3e9f",
   "metadata": {},
   "outputs": [],
   "source": [
    "from sklearn.datasets import load_iris\n",
    "# Load the Iris dataset\n",
    "iris_data = load_iris()\n",
    "\n",
    "# Convert to DataFrame\n",
    "iris_df = pd.DataFrame(iris_data.data, columns=iris_data.feature_names)\n",
    "\n",
    "# Bind the disease progression (diabetes target) to the DataFrame\n",
    "iris_df['species'] = iris_data.target\n",
    "\n",
    "\n",
    "# Display the DataFrame\n",
    "iris_df\n",
    "\n",
    "#Your code here ... "
   ]
  },
  {
   "cell_type": "code",
   "execution_count": 3,
   "id": "a431d282-f9ca-4d5d-8912-71ffc9d8ea19",
   "metadata": {},
   "outputs": [
    {
     "ename": "ModuleNotFoundError",
     "evalue": "No module named 'sklearn'",
     "output_type": "error",
     "traceback": [
      "\u001b[1;31m---------------------------------------------------------------------------\u001b[0m",
      "\u001b[1;31mModuleNotFoundError\u001b[0m                       Traceback (most recent call last)",
      "Cell \u001b[1;32mIn[3], line 1\u001b[0m\n\u001b[1;32m----> 1\u001b[0m \u001b[38;5;28;01mfrom\u001b[39;00m \u001b[38;5;21;01msklearn\u001b[39;00m\u001b[38;5;21;01m.\u001b[39;00m\u001b[38;5;21;01mdatasets\u001b[39;00m \u001b[38;5;28;01mimport\u001b[39;00m load_iris\n\u001b[0;32m      2\u001b[0m \u001b[38;5;66;03m# Load the Iris dataset\u001b[39;00m\n\u001b[0;32m      3\u001b[0m iris_data \u001b[38;5;241m=\u001b[39m load_iris()\n",
      "\u001b[1;31mModuleNotFoundError\u001b[0m: No module named 'sklearn'"
     ]
    }
   ],
   "source": [
    "from sklearn.datasets import load_iris\n",
    "# Load the Iris dataset\n",
    "iris_data = load_iris()\n",
    "\n",
    "# Convert to DataFrame\n",
    "iris_df = pd.DataFrame(iris_data.data, columns=iris_data.feature_names)\n",
    "\n",
    "# Bind the disease progression (diabetes target) to the DataFrame\n",
    "iris_df['species'] = iris_data.target\n",
    "\n",
    "\n",
    "# Display the DataFrame\n",
    "iris_df\n",
    "\n",
    "#Your code here ... \n",
    "iris_df.head()"
   ]
  },
  {
   "cell_type": "markdown",
   "id": "99b725c5",
   "metadata": {},
   "source": [
    "> Your answer here ...  \n",
    "# Get the shape of the DataFrame\n",
    "iris_df.shape\n",
    "\n",
    "num_rows = len(iris_df)  \n",
    "num_columns = len(iris_df.columns)  \n",
    "\n",
    "\n"
   ]
  },
  {
   "cell_type": "markdown",
   "id": "fa3832d7",
   "metadata": {},
   "source": [
    "#### **Question 2:** \n",
    "#### Data-visualization\n",
    "\n",
    "Create plots to visualize the relationships between the features (sepal length, sepal width, petal length, petal width).\n"
   ]
  },
  {
   "cell_type": "code",
   "execution_count": null,
   "id": "efd6dc0c",
   "metadata": {},
   "outputs": [],
   "source": [
    "# Your code here ...\n",
    "import seaborn as sns\n",
    "import matplotlib.pyplot as plt\n",
    "\n",
    "# Pairplot to visualize relationships between features\n",
    "sns.pairplot(iris_df, hue='species')\n",
    "plt.show()\n"
   ]
  },
  {
   "cell_type": "markdown",
   "id": "d596b3af",
   "metadata": {},
   "source": [
    "#### **Question 3:** \n",
    "#### Data cleaning"
   ]
  },
  {
   "cell_type": "code",
   "execution_count": 16,
   "id": "b8971d89",
   "metadata": {},
   "outputs": [
    {
     "name": "stdout",
     "output_type": "stream",
     "text": [
      "   sepal length (cm)  sepal width (cm)  petal length (cm)  petal width (cm)  \\\n",
      "0          -0.900681          1.019004          -1.340227         -1.315444   \n",
      "1          -1.143017         -0.131979          -1.340227         -1.315444   \n",
      "2          -1.385353          0.328414          -1.397064         -1.315444   \n",
      "3          -1.506521          0.098217          -1.283389         -1.315444   \n",
      "4          -1.021849          1.249201          -1.340227         -1.315444   \n",
      "\n",
      "   species  \n",
      "0        0  \n",
      "1        0  \n",
      "2        0  \n",
      "3        0  \n",
      "4        0  \n"
     ]
    }
   ],
   "source": [
    "# Initialize the StandardScaler\n",
    "scaler = StandardScaler()\n",
    "\n",
    "# Scale the features (excluding the species column)\n",
    "scaled_features = scaler.fit_transform(iris_df.iloc[:, :-1])\n",
    "\n",
    "# Create a new DataFrame with scaled features\n",
    "scaled_iris_df = pd.DataFrame(scaled_features, columns=iris_data.feature_names)\n",
    "\n",
    "# Add the species column back to the scaled DataFrame\n",
    "scaled_iris_df['species'] = iris_df['species'].values\n",
    "\n",
    "# Display the first few rows of the scaled DataFrame\n",
    "print(scaled_iris_df.head())"
   ]
  },
  {
   "cell_type": "markdown",
   "id": "b326e039",
   "metadata": {},
   "source": [
    "Why is it important to standardize the features of a dataset before applying clustering algorithms like K-Means? Discuss the implications of using unstandardized data in your analysis."
   ]
  },
  {
   "cell_type": "markdown",
   "id": "fc34b4b7",
   "metadata": {},
   "source": [
    "> Your answer here ... \n",
    "\n",
    "# Standardizing is crucial because K-Means clustering uses Euclidean distance to group points. If features are not standardized, features with larger values (like petal length) can dominate the distance computation, leading to biased clusters."
   ]
  },
  {
   "cell_type": "markdown",
   "id": "4604ee03",
   "metadata": {},
   "source": [
    "#### **Question 4:** \n",
    "#### K-means clustering \n",
    "Apply the K-Means clustering algorithm to the Iris dataset.\n",
    "Choose the number of clusters (K=3, since there are three species) and fit the model.\n",
    "Assign cluster labels to the original data and add them as a new column in the DataFrame."
   ]
  },
  {
   "cell_type": "code",
   "execution_count": null,
   "id": "909df219",
   "metadata": {},
   "outputs": [],
   "source": [
    "# Your code here ...\n",
    "from sklearn.cluster import KMeans\n",
    "\n",
    "# Initialize KMeans with 3 clusters\n",
    "kmeans = KMeans(n_clusters=3, random_state=0)\n",
    "\n",
    "# Fit the model and predict cluster labels\n",
    "iris_df['cluster'] = kmeans.fit_predict(scaled_iris_df.iloc[:, :-1])\n",
    "\n",
    "# Display the DataFrame with cluster labels\n",
    "iris_df.head()\n"
   ]
  },
  {
   "cell_type": "markdown",
   "id": "0aefdee5",
   "metadata": {},
   "source": [
    "Discuss the results of the K-Means clustering. How well did the clusters match the true species?"
   ]
  },
  {
   "cell_type": "markdown",
   "id": "7bcebc16",
   "metadata": {},
   "source": [
    "> Your answer here ...\n",
    "from sklearn.metrics import confusion_matrix\n",
    "\n",
    "# Create confusion matrix to compare true species with cluster labels\n",
    "confusion = confusion_matrix(iris_df['species'], iris_df['cluster'])\n",
    "print(confusion)\n",
    "##  K-Means might not perfectly match the true species, it often does reasonably well in clustering similar species together. Compare the assigned clusters (iris_df['cluster']) with the actual species (iris_df['species']). You can use a confusion matrix to quantify how well the clusters match the species:"
   ]
  },
  {
   "cell_type": "markdown",
   "id": "3f76bf62",
   "metadata": {},
   "source": [
    "#### **Question 5:** \n",
    "#### Bootstrapping \n",
    "\n",
    " Implement bootstrapping on the mean of one of the sepal or petal measurement variables (e.g., Sepal Length, Petal Width) to assess the stability of the mean estimate. Generate 1000 bootstrap samples, calculate the mean for each sample, and compute a 95% confidence interval to evaluate the variability in the estimate."
   ]
  },
  {
   "cell_type": "code",
   "execution_count": 7,
   "id": "ffefa9f2",
   "metadata": {},
   "outputs": [],
   "source": [
    "# Your code here ...\n",
    "np.random.seed(0)  # For reproducibility\n",
    "\n",
    "# Generate bootstrap samples for Sepal Length (1000 samples)\n",
    "bootstrap_means = [np.mean(np.random.choice(iris_df['sepal length (cm)'], size=150, replace=True)) for _ in range(1000)]\n",
    "\n",
    "# Calculate 95% confidence interval\n",
    "ci_lower = np.percentile(bootstrap_means, 2.5)\n",
    "ci_upper = np.percentile(bootstrap_means, 97.5)\n",
    "\n",
    "print(f\"95% Confidence Interval: ({ci_lower}, {ci_upper})\")\n"
   ]
  },
  {
   "cell_type": "markdown",
   "id": "29096311",
   "metadata": {},
   "source": [
    "Reflect on the variability observed in the bootstrapped means and discuss whether the mean of the selected variable appears to be a stable and reliable estimate based on the confidence interval and the spread of the bootstrapped means."
   ]
  },
  {
   "cell_type": "markdown",
   "id": "0a7e6778",
   "metadata": {},
   "source": [
    "> Your answer here ...\n",
    "\n",
    "Confidence interval gives insight into the stability of the mean estimate. If the confidence interval is narrow and the bootstrap means are tightly clustered around the sample mean, it suggests that the mean is a stable and reliable estimate."
   ]
  },
  {
   "cell_type": "markdown",
   "id": "6f8a69db",
   "metadata": {},
   "source": [
    "# Criteria\n",
    "\n",
    "\n",
    "| **Criteria**                                           | **Complete**                                      | **Incomplete**                                    |\n",
    "|--------------------------------------------------------|---------------------------------------------------|--------------------------------------------------|\n",
    "| **Data Inspection**                                    | Data is thoroughly inspected for the number of variables, observations, and data types, and relevant insights are noted. | Data inspection is missing or lacks detail.         |\n",
    "| **Data Visualization**                                 | Visualizations (e.g., scatter plots) are well-constructed and correctly interpreted to explore relationships between features and species. | Visualizations are poorly constructed or not correctly interpreted. |\n",
    "| **Clustering Implementation**                           | K-Means clustering is correctly implemented, and cluster labels are appropriately assigned to the dataset.            | K-Means clustering is missing or incorrectly implemented. |\n",
    "| **Bootstrapping Process**                              | Bootstrapping is correctly performed, and results are used to assess variable mean stability. | Bootstrapping is missing or incorrectly performed. |"
   ]
  },
  {
   "cell_type": "markdown",
   "id": "0b4390cc",
   "metadata": {},
   "source": [
    "## Submission Information\n",
    "\n",
    "🚨 **Please review our [Assignment Submission Guide](https://github.com/UofT-DSI/onboarding/blob/main/onboarding_documents/submissions.md)** 🚨 for detailed instructions on how to format, branch, and submit your work. Following these guidelines is crucial for your submissions to be evaluated correctly.\n",
    "\n",
    "### Note:\n",
    "\n",
    "If you like, you may collaborate with others in the cohort. If you choose to do so, please indicate with whom you have worked with in your pull request by tagging their GitHub username. Separate submissions are required.\n",
    "\n",
    "### Submission Parameters:\n",
    "* Submission Due Date: `HH:MM AM/PM - DD/MM/YYYY`\n",
    "* The branch name for your repo should be: `assignment-1`\n",
    "* What to submit for this assignment:\n",
    "    * This Jupyter Notebook (assignment_1.ipynb) should be populated and should be the only change in your pull request.\n",
    "* What the pull request link should look like for this assignment: `https://github.com/<your_github_username>/applying_statistical_concepts/pull/<pr_id>`\n",
    "    * Open a private window in your browser. Copy and paste the link to your pull request into the address bar. Make sure you can see your pull request properly. This helps the technical facilitator and learning support staff review your submission easily.\n",
    "\n",
    "Checklist:\n",
    "- [ ] Created a branch with the correct naming convention.\n",
    "- [ ] Ensured that the repository is public.\n",
    "- [ ] Reviewed the PR description guidelines and adhered to them.\n",
    "- [ ] Verify that the link is accessible in a private browser window.\n",
    "\n",
    "If you encounter any difficulties or have questions, please don't hesitate to reach out to our team via our Slack at `#cohort-4-help`. Our Technical Facilitators and Learning Support staff are here to help you navigate any challenges.\n"
   ]
  }
 ],
 "metadata": {
  "kernelspec": {
   "display_name": "Python 3.10.4",
   "language": "python",
   "name": "python3"
  },
  "language_info": {
   "codemirror_mode": {
    "name": "ipython",
    "version": 3
   },
   "file_extension": ".py",
   "mimetype": "text/x-python",
   "name": "python",
   "nbconvert_exporter": "python",
   "pygments_lexer": "ipython3",
   "version": "3.11.2"
  },
  "vscode": {
   "interpreter": {
    "hash": "497a84dc8fec8cf8d24e7e87b6d954c9a18a327edc66feb9b9ea7e9e72cc5c7e"
   }
  }
 },
 "nbformat": 4,
 "nbformat_minor": 5
}
